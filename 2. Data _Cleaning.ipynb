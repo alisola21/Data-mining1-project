{
 "cells": [
  {
   "cell_type": "code",
   "execution_count": 60,
   "metadata": {},
   "outputs": [],
   "source": [
    "%matplotlib inline\n",
    "import matplotlib.pyplot as plt\n",
    "\n",
    "import numpy as np\n",
    "import pandas as pd\n",
    "\n",
    "import seaborn as sns\n",
    "from matplotlib import rcParams\n",
    "\n",
    "from matplotlib.pyplot import figure\n",
    "rcParams['figure.figsize'] = 11.7,8.27"
   ]
  },
  {
   "cell_type": "markdown",
   "metadata": {},
   "source": [
    "# Data Cleaning "
   ]
  },
  {
   "cell_type": "markdown",
   "metadata": {},
   "source": [
    "1. [Errori](#errori)\n",
    "2. [Valori Mancanti](#mancanti) \n",
    "3. [Outliers](#outlier) "
   ]
  },
  {
   "cell_type": "markdown",
   "metadata": {},
   "source": [
    "## Analisi dataset"
   ]
  },
  {
   "cell_type": "code",
   "execution_count": 2,
   "metadata": {},
   "outputs": [
    {
     "data": {
      "text/html": [
       "<div>\n",
       "<style scoped>\n",
       "    .dataframe tbody tr th:only-of-type {\n",
       "        vertical-align: middle;\n",
       "    }\n",
       "\n",
       "    .dataframe tbody tr th {\n",
       "        vertical-align: top;\n",
       "    }\n",
       "\n",
       "    .dataframe thead th {\n",
       "        text-align: right;\n",
       "    }\n",
       "</style>\n",
       "<table border=\"1\" class=\"dataframe\">\n",
       "  <thead>\n",
       "    <tr style=\"text-align: right;\">\n",
       "      <th></th>\n",
       "      <th>word</th>\n",
       "      <th>length</th>\n",
       "      <th>arousal</th>\n",
       "      <th>valence</th>\n",
       "      <th>dominance</th>\n",
       "      <th>concreteness</th>\n",
       "      <th>imageability</th>\n",
       "      <th>familiarity</th>\n",
       "      <th>aoa</th>\n",
       "      <th>semsize</th>\n",
       "      <th>gender</th>\n",
       "      <th>polysemy</th>\n",
       "      <th>web_corpus_freq</th>\n",
       "    </tr>\n",
       "  </thead>\n",
       "  <tbody>\n",
       "    <tr>\n",
       "      <th>0</th>\n",
       "      <td>abattoir</td>\n",
       "      <td>8</td>\n",
       "      <td>4.200</td>\n",
       "      <td>2.864</td>\n",
       "      <td>4.333</td>\n",
       "      <td>5.455</td>\n",
       "      <td>4.391</td>\n",
       "      <td>2.382</td>\n",
       "      <td>6.760</td>\n",
       "      <td>4.652</td>\n",
       "      <td>5.391</td>\n",
       "      <td>0</td>\n",
       "      <td>160074.0</td>\n",
       "    </tr>\n",
       "    <tr>\n",
       "      <th>1</th>\n",
       "      <td>abbey</td>\n",
       "      <td>5</td>\n",
       "      <td>3.125</td>\n",
       "      <td>5.781</td>\n",
       "      <td>4.667</td>\n",
       "      <td>5.906</td>\n",
       "      <td>5.344</td>\n",
       "      <td>3.324</td>\n",
       "      <td>5.177</td>\n",
       "      <td>5.121</td>\n",
       "      <td>3.303</td>\n",
       "      <td>0</td>\n",
       "      <td>4224864.0</td>\n",
       "    </tr>\n",
       "    <tr>\n",
       "      <th>2</th>\n",
       "      <td>abbreviate</td>\n",
       "      <td>10</td>\n",
       "      <td>3.273</td>\n",
       "      <td>5.250</td>\n",
       "      <td>5.235</td>\n",
       "      <td>3.286</td>\n",
       "      <td>3.177</td>\n",
       "      <td>5.121</td>\n",
       "      <td>5.543</td>\n",
       "      <td>2.667</td>\n",
       "      <td>3.971</td>\n",
       "      <td>0</td>\n",
       "      <td>140105.0</td>\n",
       "    </tr>\n",
       "    <tr>\n",
       "      <th>3</th>\n",
       "      <td>abdicate</td>\n",
       "      <td>8</td>\n",
       "      <td>4.194</td>\n",
       "      <td>3.767</td>\n",
       "      <td>4.419</td>\n",
       "      <td>3.367</td>\n",
       "      <td>2.516</td>\n",
       "      <td>3.971</td>\n",
       "      <td>6.233</td>\n",
       "      <td>4.679</td>\n",
       "      <td>5.167</td>\n",
       "      <td>0</td>\n",
       "      <td>124123.0</td>\n",
       "    </tr>\n",
       "    <tr>\n",
       "      <th>4</th>\n",
       "      <td>abdication</td>\n",
       "      <td>10</td>\n",
       "      <td>3.846</td>\n",
       "      <td>3.880</td>\n",
       "      <td>4.800</td>\n",
       "      <td>3.292</td>\n",
       "      <td>2.571</td>\n",
       "      <td>3.097</td>\n",
       "      <td>6.407</td>\n",
       "      <td>5.083</td>\n",
       "      <td>4.571</td>\n",
       "      <td>0</td>\n",
       "      <td>128143.0</td>\n",
       "    </tr>\n",
       "  </tbody>\n",
       "</table>\n",
       "</div>"
      ],
      "text/plain": [
       "         word  length  arousal  valence  dominance  concreteness  \\\n",
       "0    abattoir       8    4.200    2.864      4.333         5.455   \n",
       "1       abbey       5    3.125    5.781      4.667         5.906   \n",
       "2  abbreviate      10    3.273    5.250      5.235         3.286   \n",
       "3    abdicate       8    4.194    3.767      4.419         3.367   \n",
       "4  abdication      10    3.846    3.880      4.800         3.292   \n",
       "\n",
       "   imageability  familiarity    aoa  semsize  gender  polysemy  \\\n",
       "0         4.391        2.382  6.760    4.652   5.391         0   \n",
       "1         5.344        3.324  5.177    5.121   3.303         0   \n",
       "2         3.177        5.121  5.543    2.667   3.971         0   \n",
       "3         2.516        3.971  6.233    4.679   5.167         0   \n",
       "4         2.571        3.097  6.407    5.083   4.571         0   \n",
       "\n",
       "   web_corpus_freq  \n",
       "0         160074.0  \n",
       "1        4224864.0  \n",
       "2         140105.0  \n",
       "3         124123.0  \n",
       "4         128143.0  "
      ]
     },
     "execution_count": 2,
     "metadata": {},
     "output_type": "execute_result"
    }
   ],
   "source": [
    "df = pd.read_csv('words_glasgow.csv')\n",
    "df.head()"
   ]
  },
  {
   "cell_type": "code",
   "execution_count": 3,
   "metadata": {},
   "outputs": [
    {
     "name": "stdout",
     "output_type": "stream",
     "text": [
      "<class 'pandas.core.frame.DataFrame'>\n",
      "RangeIndex: 4682 entries, 0 to 4681\n",
      "Data columns (total 13 columns):\n",
      " #   Column           Non-Null Count  Dtype  \n",
      "---  ------           --------------  -----  \n",
      " 0   word             4682 non-null   object \n",
      " 1   length           4682 non-null   int64  \n",
      " 2   arousal          4682 non-null   float64\n",
      " 3   valence          4682 non-null   float64\n",
      " 4   dominance        4682 non-null   float64\n",
      " 5   concreteness     4682 non-null   float64\n",
      " 6   imageability     4682 non-null   float64\n",
      " 7   familiarity      4682 non-null   float64\n",
      " 8   aoa              4682 non-null   float64\n",
      " 9   semsize          4682 non-null   float64\n",
      " 10  gender           4682 non-null   float64\n",
      " 11  polysemy         4682 non-null   int64  \n",
      " 12  web_corpus_freq  4668 non-null   float64\n",
      "dtypes: float64(10), int64(2), object(1)\n",
      "memory usage: 475.6+ KB\n"
     ]
    }
   ],
   "source": [
    "df.info()"
   ]
  },
  {
   "cell_type": "markdown",
   "metadata": {},
   "source": [
    "## Errori <a name=\"errori\"></a>"
   ]
  },
  {
   "cell_type": "markdown",
   "metadata": {},
   "source": [
    "Funzione che controlla se ci sono errori"
   ]
  },
  {
   "cell_type": "code",
   "execution_count": 4,
   "metadata": {},
   "outputs": [],
   "source": [
    "def check (col, max_num):\n",
    "    vals = list(col)\n",
    "    flag = True\n",
    "    for i, val in enumerate(vals):\n",
    "        if val < 0 and val > max_num:\n",
    "            flag = False\n",
    "            print(val)\n",
    "\n",
    "    if flag:\n",
    "        print('Valori corretti')"
   ]
  },
  {
   "cell_type": "markdown",
   "metadata": {},
   "source": [
    "1. Controllo della lunghezza delle parole: la lunghezza specificata nella variabile length deve corrispondere alla lunghezza effettiva delle parole. \n",
    "    * Non ci sono valori errati in lenght."
   ]
  },
  {
   "cell_type": "code",
   "execution_count": 5,
   "metadata": {},
   "outputs": [
    {
     "name": "stdout",
     "output_type": "stream",
     "text": [
      "Valori corretti\n"
     ]
    }
   ],
   "source": [
    "vals = list(df['word'])\n",
    "flag = True\n",
    "for i, word in enumerate(vals):\n",
    "    if len(word) != df.length[i]:\n",
    "        flag = False\n",
    "        print(i, word, df.length[i])\n",
    "    \n",
    "if flag:\n",
    "    print('Valori corretti')\n"
   ]
  },
  {
   "cell_type": "markdown",
   "metadata": {},
   "source": [
    "2. Controllo delle scala dei valori di arousal, valence, dominance: i valori devono essere nel range 0-9. \n",
    "    * Non ci sono valori errati."
   ]
  },
  {
   "cell_type": "code",
   "execution_count": 6,
   "metadata": {},
   "outputs": [
    {
     "name": "stdout",
     "output_type": "stream",
     "text": [
      "Valori corretti\n",
      "Valori corretti\n",
      "Valori corretti\n"
     ]
    }
   ],
   "source": [
    "check(df.arousal, 9)\n",
    "check(df.valence, 9)\n",
    "check(df.dominance, 9)"
   ]
  },
  {
   "cell_type": "markdown",
   "metadata": {},
   "source": [
    "3. Controllo delle scala dei valori di concreteness,imageability,familiarity,aoa,semsize,gender\t: i valori devono essere nel range 0-7. \n",
    "    * Non ci sono valori errati."
   ]
  },
  {
   "cell_type": "code",
   "execution_count": 7,
   "metadata": {},
   "outputs": [
    {
     "name": "stdout",
     "output_type": "stream",
     "text": [
      "Valori corretti\n",
      "Valori corretti\n",
      "Valori corretti\n",
      "Valori corretti\n",
      "Valori corretti\n",
      "Valori corretti\n"
     ]
    }
   ],
   "source": [
    "check(df.concreteness, 7)\n",
    "check(df.imageability, 7)\n",
    "check(df.familiarity, 7)\n",
    "check(df.aoa, 7)\n",
    "check(df.semsize, 7)\n",
    "check(df.gender, 7)"
   ]
  },
  {
   "cell_type": "markdown",
   "metadata": {},
   "source": [
    "## Valori mancanti <a name=\"mancanti\"></a>"
   ]
  },
  {
   "cell_type": "markdown",
   "metadata": {},
   "source": [
    "All'interno del dataset ci sono **14 valori mancanti** all'interno della var. *Web_corpus_freq* che abbiamo decido di sostituire con la mediana della variabile con cui Web_corpus_freq è maggiormente correlata ossìa **familiarity** (corr: 0.579648)"
   ]
  },
  {
   "cell_type": "code",
   "execution_count": 8,
   "metadata": {},
   "outputs": [
    {
     "data": {
      "text/plain": [
       "word                0\n",
       "length              0\n",
       "arousal             0\n",
       "valence             0\n",
       "dominance           0\n",
       "concreteness        0\n",
       "imageability        0\n",
       "familiarity         0\n",
       "aoa                 0\n",
       "semsize             0\n",
       "gender              0\n",
       "polysemy            0\n",
       "web_corpus_freq    14\n",
       "dtype: int64"
      ]
     },
     "execution_count": 8,
     "metadata": {},
     "output_type": "execute_result"
    }
   ],
   "source": [
    "df.isna().sum() # abbiamo valori mancanti nel web_corpus_freq"
   ]
  },
  {
   "cell_type": "code",
   "execution_count": 9,
   "metadata": {},
   "outputs": [
    {
     "data": {
      "text/html": [
       "<div>\n",
       "<style scoped>\n",
       "    .dataframe tbody tr th:only-of-type {\n",
       "        vertical-align: middle;\n",
       "    }\n",
       "\n",
       "    .dataframe tbody tr th {\n",
       "        vertical-align: top;\n",
       "    }\n",
       "\n",
       "    .dataframe thead th {\n",
       "        text-align: right;\n",
       "    }\n",
       "</style>\n",
       "<table border=\"1\" class=\"dataframe\">\n",
       "  <thead>\n",
       "    <tr style=\"text-align: right;\">\n",
       "      <th></th>\n",
       "      <th>length</th>\n",
       "      <th>arousal</th>\n",
       "      <th>valence</th>\n",
       "      <th>dominance</th>\n",
       "      <th>concreteness</th>\n",
       "      <th>imageability</th>\n",
       "      <th>familiarity</th>\n",
       "      <th>aoa</th>\n",
       "      <th>semsize</th>\n",
       "      <th>gender</th>\n",
       "      <th>polysemy</th>\n",
       "      <th>web_corpus_freq</th>\n",
       "    </tr>\n",
       "  </thead>\n",
       "  <tbody>\n",
       "    <tr>\n",
       "      <th>length</th>\n",
       "      <td>1.000000</td>\n",
       "      <td>0.147804</td>\n",
       "      <td>0.053738</td>\n",
       "      <td>0.007002</td>\n",
       "      <td>-0.202149</td>\n",
       "      <td>-0.202792</td>\n",
       "      <td>-0.141403</td>\n",
       "      <td>0.412430</td>\n",
       "      <td>0.318125</td>\n",
       "      <td>-0.002198</td>\n",
       "      <td>-0.249338</td>\n",
       "      <td>-0.244337</td>\n",
       "    </tr>\n",
       "    <tr>\n",
       "      <th>arousal</th>\n",
       "      <td>0.147804</td>\n",
       "      <td>1.000000</td>\n",
       "      <td>0.354573</td>\n",
       "      <td>0.356341</td>\n",
       "      <td>-0.236691</td>\n",
       "      <td>-0.080643</td>\n",
       "      <td>0.167961</td>\n",
       "      <td>-0.004926</td>\n",
       "      <td>0.514712</td>\n",
       "      <td>-0.106969</td>\n",
       "      <td>-0.084989</td>\n",
       "      <td>0.068559</td>\n",
       "    </tr>\n",
       "    <tr>\n",
       "      <th>valence</th>\n",
       "      <td>0.053738</td>\n",
       "      <td>0.354573</td>\n",
       "      <td>1.000000</td>\n",
       "      <td>0.702252</td>\n",
       "      <td>0.042002</td>\n",
       "      <td>0.091276</td>\n",
       "      <td>0.294600</td>\n",
       "      <td>-0.188121</td>\n",
       "      <td>0.121232</td>\n",
       "      <td>-0.429474</td>\n",
       "      <td>0.000449</td>\n",
       "      <td>0.300342</td>\n",
       "    </tr>\n",
       "    <tr>\n",
       "      <th>dominance</th>\n",
       "      <td>0.007002</td>\n",
       "      <td>0.356341</td>\n",
       "      <td>0.702252</td>\n",
       "      <td>1.000000</td>\n",
       "      <td>0.042363</td>\n",
       "      <td>0.080612</td>\n",
       "      <td>0.234658</td>\n",
       "      <td>-0.141472</td>\n",
       "      <td>0.098469</td>\n",
       "      <td>-0.111078</td>\n",
       "      <td>0.051475</td>\n",
       "      <td>0.223458</td>\n",
       "    </tr>\n",
       "    <tr>\n",
       "      <th>concreteness</th>\n",
       "      <td>-0.202149</td>\n",
       "      <td>-0.236691</td>\n",
       "      <td>0.042002</td>\n",
       "      <td>0.042363</td>\n",
       "      <td>1.000000</td>\n",
       "      <td>0.903587</td>\n",
       "      <td>0.097511</td>\n",
       "      <td>-0.387694</td>\n",
       "      <td>-0.400490</td>\n",
       "      <td>0.141523</td>\n",
       "      <td>0.112280</td>\n",
       "      <td>0.025347</td>\n",
       "    </tr>\n",
       "    <tr>\n",
       "      <th>imageability</th>\n",
       "      <td>-0.202792</td>\n",
       "      <td>-0.080643</td>\n",
       "      <td>0.091276</td>\n",
       "      <td>0.080612</td>\n",
       "      <td>0.903587</td>\n",
       "      <td>1.000000</td>\n",
       "      <td>0.209765</td>\n",
       "      <td>-0.498524</td>\n",
       "      <td>-0.319086</td>\n",
       "      <td>0.063690</td>\n",
       "      <td>0.101208</td>\n",
       "      <td>0.022608</td>\n",
       "    </tr>\n",
       "    <tr>\n",
       "      <th>familiarity</th>\n",
       "      <td>-0.141403</td>\n",
       "      <td>0.167961</td>\n",
       "      <td>0.294600</td>\n",
       "      <td>0.234658</td>\n",
       "      <td>0.097511</td>\n",
       "      <td>0.209765</td>\n",
       "      <td>1.000000</td>\n",
       "      <td>-0.670507</td>\n",
       "      <td>0.045278</td>\n",
       "      <td>-0.217116</td>\n",
       "      <td>0.104050</td>\n",
       "      <td>0.579648</td>\n",
       "    </tr>\n",
       "    <tr>\n",
       "      <th>aoa</th>\n",
       "      <td>0.412430</td>\n",
       "      <td>-0.004926</td>\n",
       "      <td>-0.188121</td>\n",
       "      <td>-0.141472</td>\n",
       "      <td>-0.387694</td>\n",
       "      <td>-0.498524</td>\n",
       "      <td>-0.670507</td>\n",
       "      <td>1.000000</td>\n",
       "      <td>0.224328</td>\n",
       "      <td>0.144490</td>\n",
       "      <td>-0.180417</td>\n",
       "      <td>-0.413056</td>\n",
       "    </tr>\n",
       "    <tr>\n",
       "      <th>semsize</th>\n",
       "      <td>0.318125</td>\n",
       "      <td>0.514712</td>\n",
       "      <td>0.121232</td>\n",
       "      <td>0.098469</td>\n",
       "      <td>-0.400490</td>\n",
       "      <td>-0.319086</td>\n",
       "      <td>0.045278</td>\n",
       "      <td>0.224328</td>\n",
       "      <td>1.000000</td>\n",
       "      <td>0.148675</td>\n",
       "      <td>-0.137745</td>\n",
       "      <td>0.161435</td>\n",
       "    </tr>\n",
       "    <tr>\n",
       "      <th>gender</th>\n",
       "      <td>-0.002198</td>\n",
       "      <td>-0.106969</td>\n",
       "      <td>-0.429474</td>\n",
       "      <td>-0.111078</td>\n",
       "      <td>0.141523</td>\n",
       "      <td>0.063690</td>\n",
       "      <td>-0.217116</td>\n",
       "      <td>0.144490</td>\n",
       "      <td>0.148675</td>\n",
       "      <td>1.000000</td>\n",
       "      <td>0.025161</td>\n",
       "      <td>-0.075323</td>\n",
       "    </tr>\n",
       "    <tr>\n",
       "      <th>polysemy</th>\n",
       "      <td>-0.249338</td>\n",
       "      <td>-0.084989</td>\n",
       "      <td>0.000449</td>\n",
       "      <td>0.051475</td>\n",
       "      <td>0.112280</td>\n",
       "      <td>0.101208</td>\n",
       "      <td>0.104050</td>\n",
       "      <td>-0.180417</td>\n",
       "      <td>-0.137745</td>\n",
       "      <td>0.025161</td>\n",
       "      <td>1.000000</td>\n",
       "      <td>0.193553</td>\n",
       "    </tr>\n",
       "    <tr>\n",
       "      <th>web_corpus_freq</th>\n",
       "      <td>-0.244337</td>\n",
       "      <td>0.068559</td>\n",
       "      <td>0.300342</td>\n",
       "      <td>0.223458</td>\n",
       "      <td>0.025347</td>\n",
       "      <td>0.022608</td>\n",
       "      <td>0.579648</td>\n",
       "      <td>-0.413056</td>\n",
       "      <td>0.161435</td>\n",
       "      <td>-0.075323</td>\n",
       "      <td>0.193553</td>\n",
       "      <td>1.000000</td>\n",
       "    </tr>\n",
       "  </tbody>\n",
       "</table>\n",
       "</div>"
      ],
      "text/plain": [
       "                   length   arousal   valence  dominance  concreteness  \\\n",
       "length           1.000000  0.147804  0.053738   0.007002     -0.202149   \n",
       "arousal          0.147804  1.000000  0.354573   0.356341     -0.236691   \n",
       "valence          0.053738  0.354573  1.000000   0.702252      0.042002   \n",
       "dominance        0.007002  0.356341  0.702252   1.000000      0.042363   \n",
       "concreteness    -0.202149 -0.236691  0.042002   0.042363      1.000000   \n",
       "imageability    -0.202792 -0.080643  0.091276   0.080612      0.903587   \n",
       "familiarity     -0.141403  0.167961  0.294600   0.234658      0.097511   \n",
       "aoa              0.412430 -0.004926 -0.188121  -0.141472     -0.387694   \n",
       "semsize          0.318125  0.514712  0.121232   0.098469     -0.400490   \n",
       "gender          -0.002198 -0.106969 -0.429474  -0.111078      0.141523   \n",
       "polysemy        -0.249338 -0.084989  0.000449   0.051475      0.112280   \n",
       "web_corpus_freq -0.244337  0.068559  0.300342   0.223458      0.025347   \n",
       "\n",
       "                 imageability  familiarity       aoa   semsize    gender  \\\n",
       "length              -0.202792    -0.141403  0.412430  0.318125 -0.002198   \n",
       "arousal             -0.080643     0.167961 -0.004926  0.514712 -0.106969   \n",
       "valence              0.091276     0.294600 -0.188121  0.121232 -0.429474   \n",
       "dominance            0.080612     0.234658 -0.141472  0.098469 -0.111078   \n",
       "concreteness         0.903587     0.097511 -0.387694 -0.400490  0.141523   \n",
       "imageability         1.000000     0.209765 -0.498524 -0.319086  0.063690   \n",
       "familiarity          0.209765     1.000000 -0.670507  0.045278 -0.217116   \n",
       "aoa                 -0.498524    -0.670507  1.000000  0.224328  0.144490   \n",
       "semsize             -0.319086     0.045278  0.224328  1.000000  0.148675   \n",
       "gender               0.063690    -0.217116  0.144490  0.148675  1.000000   \n",
       "polysemy             0.101208     0.104050 -0.180417 -0.137745  0.025161   \n",
       "web_corpus_freq      0.022608     0.579648 -0.413056  0.161435 -0.075323   \n",
       "\n",
       "                 polysemy  web_corpus_freq  \n",
       "length          -0.249338        -0.244337  \n",
       "arousal         -0.084989         0.068559  \n",
       "valence          0.000449         0.300342  \n",
       "dominance        0.051475         0.223458  \n",
       "concreteness     0.112280         0.025347  \n",
       "imageability     0.101208         0.022608  \n",
       "familiarity      0.104050         0.579648  \n",
       "aoa             -0.180417        -0.413056  \n",
       "semsize         -0.137745         0.161435  \n",
       "gender           0.025161        -0.075323  \n",
       "polysemy         1.000000         0.193553  \n",
       "web_corpus_freq  0.193553         1.000000  "
      ]
     },
     "execution_count": 9,
     "metadata": {},
     "output_type": "execute_result"
    }
   ],
   "source": [
    "df.corr('spearman')"
   ]
  },
  {
   "cell_type": "code",
   "execution_count": null,
   "metadata": {},
   "outputs": [],
   "source": [
    "sns.heatmap(df.corr('spearman'),annot = True, linewidths=.5, vmin=-1, vmax=1)\n",
    "plt.show()"
   ]
  },
  {
   "cell_type": "markdown",
   "metadata": {},
   "source": [
    "Possibili group by:\n",
    "- familiarity\n",
    "- aoa"
   ]
  },
  {
   "cell_type": "markdown",
   "metadata": {},
   "source": [
    "### Group by per familiarity"
   ]
  },
  {
   "cell_type": "code",
   "execution_count": 10,
   "metadata": {},
   "outputs": [],
   "source": [
    "updated_df = pd.read_csv('words_glasgow.csv')"
   ]
  },
  {
   "cell_type": "markdown",
   "metadata": {},
   "source": [
    "Correlazione più tra frequenza e familiarity = 0.579648"
   ]
  },
  {
   "cell_type": "code",
   "execution_count": 11,
   "metadata": {},
   "outputs": [
    {
     "data": {
      "text/plain": [
       "0         160074.0\n",
       "1        4224864.0\n",
       "2         140105.0\n",
       "3         124123.0\n",
       "4         128143.0\n",
       "           ...    \n",
       "4677     3192943.0\n",
       "4678    30735412.0\n",
       "4679      655010.0\n",
       "4680    11589578.0\n",
       "4681     1672374.0\n",
       "Name: web_corpus_freq, Length: 4682, dtype: float64"
      ]
     },
     "execution_count": 11,
     "metadata": {},
     "output_type": "execute_result"
    }
   ],
   "source": [
    "def fillmedian(x):\n",
    "    return x.fillna(x.median())\n",
    "\n",
    "updated_df['web_corpus_freq'] = updated_df['web_corpus_freq'].groupby(updated_df['familiarity']).apply(fillmedian)\n",
    "updated_df['web_corpus_freq']"
   ]
  },
  {
   "cell_type": "markdown",
   "metadata": {},
   "source": [
    "La parola Facebook ha come frequenza un valore nan "
   ]
  },
  {
   "cell_type": "code",
   "execution_count": 12,
   "metadata": {},
   "outputs": [
    {
     "data": {
      "text/plain": [
       "1"
      ]
     },
     "execution_count": 12,
     "metadata": {},
     "output_type": "execute_result"
    }
   ],
   "source": [
    "updated_df['web_corpus_freq'].isna().sum()"
   ]
  },
  {
   "cell_type": "code",
   "execution_count": 13,
   "metadata": {},
   "outputs": [
    {
     "data": {
      "text/html": [
       "<div>\n",
       "<style scoped>\n",
       "    .dataframe tbody tr th:only-of-type {\n",
       "        vertical-align: middle;\n",
       "    }\n",
       "\n",
       "    .dataframe tbody tr th {\n",
       "        vertical-align: top;\n",
       "    }\n",
       "\n",
       "    .dataframe thead th {\n",
       "        text-align: right;\n",
       "    }\n",
       "</style>\n",
       "<table border=\"1\" class=\"dataframe\">\n",
       "  <thead>\n",
       "    <tr style=\"text-align: right;\">\n",
       "      <th></th>\n",
       "      <th>word</th>\n",
       "      <th>length</th>\n",
       "      <th>arousal</th>\n",
       "      <th>valence</th>\n",
       "      <th>dominance</th>\n",
       "      <th>concreteness</th>\n",
       "      <th>imageability</th>\n",
       "      <th>familiarity</th>\n",
       "      <th>aoa</th>\n",
       "      <th>semsize</th>\n",
       "      <th>gender</th>\n",
       "      <th>polysemy</th>\n",
       "      <th>web_corpus_freq</th>\n",
       "    </tr>\n",
       "  </thead>\n",
       "  <tbody>\n",
       "    <tr>\n",
       "      <th>1540</th>\n",
       "      <td>Facebook</td>\n",
       "      <td>8</td>\n",
       "      <td>4.971</td>\n",
       "      <td>4.857</td>\n",
       "      <td>4.486</td>\n",
       "      <td>5.943</td>\n",
       "      <td>6.229</td>\n",
       "      <td>6.829</td>\n",
       "      <td>6.314</td>\n",
       "      <td>5.114</td>\n",
       "      <td>4.171</td>\n",
       "      <td>0</td>\n",
       "      <td>NaN</td>\n",
       "    </tr>\n",
       "  </tbody>\n",
       "</table>\n",
       "</div>"
      ],
      "text/plain": [
       "          word  length  arousal  valence  dominance  concreteness  \\\n",
       "1540  Facebook       8    4.971    4.857      4.486         5.943   \n",
       "\n",
       "      imageability  familiarity    aoa  semsize  gender  polysemy  \\\n",
       "1540         6.229        6.829  6.314    5.114   4.171         0   \n",
       "\n",
       "      web_corpus_freq  \n",
       "1540              NaN  "
      ]
     },
     "execution_count": 13,
     "metadata": {},
     "output_type": "execute_result"
    }
   ],
   "source": [
    "updated_df[updated_df['word'] == 'Facebook']"
   ]
  },
  {
   "cell_type": "code",
   "execution_count": 14,
   "metadata": {},
   "outputs": [
    {
     "name": "stdout",
     "output_type": "stream",
     "text": [
      "1 )  585 : burgle \t 5.2 \t 27819488.0\n",
      "2 )  753 : Christmas \t 6.71 \t 27318959.0\n",
      "3 )  1070 : Dad \t 6.85 \t 143590165.0\n",
      "4 )  1076 : Dame \t 3.7 \t 778685.0\n",
      "5 )  1540 : Facebook \t 6.83 \t nan\n",
      "6 )  1559 : FALSE \t 5.7 \t 6529086.0\n",
      "7 )  2673 : Mom \t 6.59 \t 17862292.5\n",
      "8 )  2724 : Mum \t 6.91 \t 103260853.0\n",
      "9 )  2726 : Mummy \t 6.18 \t 19474194.5\n",
      "10 )  3773 : skijump \t 4.76 \t 2586257.0\n",
      "11 )  4347 : TRUE \t 6.16 \t 7113539.0\n",
      "12 )  4365 : TV \t 6.71 \t 29237400.0\n",
      "13 )  4373 : Twitter \t 6.27 \t 14627316.5\n",
      "14 )  4668 : yo-yo \t 4.48 \t 2214061.5\n"
     ]
    }
   ],
   "source": [
    "# stampa i valori mancanti \n",
    "\n",
    "vals = list(df['word'].unique()) \n",
    "count = 1\n",
    "dic ={}\n",
    "for i, val in enumerate(vals):\n",
    "    try:\n",
    "        if df['web_corpus_freq'].isna()[i] == True:\n",
    "            print(count, \") \", i, \":\", val, \"\\t\", round(updated_df['familiarity'][i],2), \"\\t\", updated_df['web_corpus_freq'][i])\n",
    "            count = count +1\n",
    "            dic[val] = updated_df['web_corpus_freq'][i]\n",
    "    except:\n",
    "       # print(\"\\nErrore: \", i , \"\\n\")\n",
    "        pass"
   ]
  },
  {
   "cell_type": "code",
   "execution_count": 15,
   "metadata": {},
   "outputs": [
    {
     "name": "stdout",
     "output_type": "stream",
     "text": [
      "Dad 143590165.0\n",
      "Facebook nan\n",
      "Mum 103260853.0\n",
      "TV 29237400.0\n",
      "burgle 27819488.0\n",
      "Christmas 27318959.0\n",
      "Mummy 19474194.5\n",
      "Mom 17862292.5\n",
      "Twitter 14627316.5\n",
      "TRUE 7113539.0\n",
      "FALSE 6529086.0\n",
      "skijump 2586257.0\n",
      "yo-yo 2214061.5\n",
      "Dame 778685.0\n"
     ]
    }
   ],
   "source": [
    "for word in sorted(dic, key=dic.get, reverse=True):\n",
    "    print(word, dic[word])"
   ]
  },
  {
   "cell_type": "code",
   "execution_count": 16,
   "metadata": {},
   "outputs": [
    {
     "data": {
      "image/png": "[encoded data removed]",
      "text/plain": [
       "<Figure size 432x288 with 2 Axes>"
      ]
     },
     "metadata": {
      "needs_background": "light"
     },
     "output_type": "display_data"
    }
   ],
   "source": [
    "plt.subplot(1,2,1)\n",
    "plt.hist(df['web_corpus_freq'],edgecolor = 'w') \n",
    "\n",
    "plt.subplot(1,2,2)\n",
    "plt.hist(updated_df['web_corpus_freq'],edgecolor = 'w') \n",
    "\n",
    "plt.tight_layout()\n",
    "plt.show()"
   ]
  },
  {
   "cell_type": "code",
   "execution_count": 17,
   "metadata": {},
   "outputs": [
    {
     "name": "stdout",
     "output_type": "stream",
     "text": [
      "0.9281138790035587\n"
     ]
    }
   ],
   "source": [
    "#Calcolo Accuracy\n",
    "updated_df_acc = updated_df.copy(deep=True)\n",
    "updated_df_acc.drop(updated_df_acc.index[updated_df_acc['word'] == 'Facebook'], inplace = True)\n",
    "updated_df_acc.drop(\"word\",axis=1,inplace=True)\n",
    "\n",
    "y1 = updated_df_acc['polysemy']\n",
    "updated_df_acc.drop(\"polysemy\",axis=1,inplace=True)\n",
    "from sklearn import metrics\n",
    "from sklearn.model_selection import train_test_split\n",
    "X_train, X_test,y_train,y_test = train_test_split(updated_df_acc,y1,test_size=0.3)\n",
    "from sklearn.linear_model import LogisticRegression\n",
    "lr = LogisticRegression()\n",
    "lr.fit(X_train,y_train)\n",
    "pred = lr.predict(X_test)\n",
    "print(metrics.accuracy_score(pred,y_test))"
   ]
  },
  {
   "cell_type": "markdown",
   "metadata": {},
   "source": [
    "### Linear regression"
   ]
  },
  {
   "cell_type": "code",
   "execution_count": 18,
   "metadata": {},
   "outputs": [],
   "source": [
    "updated_df2_with_name = pd.read_csv('words_glasgow.csv')"
   ]
  },
  {
   "cell_type": "code",
   "execution_count": 19,
   "metadata": {},
   "outputs": [],
   "source": [
    "updated_df2 = pd.read_csv('words_glasgow.csv')"
   ]
  },
  {
   "cell_type": "code",
   "execution_count": 20,
   "metadata": {},
   "outputs": [],
   "source": [
    "updated_df2.drop(\"word\",axis=1,inplace=True)"
   ]
  },
  {
   "cell_type": "code",
   "execution_count": 21,
   "metadata": {},
   "outputs": [
    {
     "name": "stderr",
     "output_type": "stream",
     "text": [
      "C:\\Users\\aliis\\anaconda3\\lib\\site-packages\\pandas\\core\\frame.py:4906: SettingWithCopyWarning: \n",
      "A value is trying to be set on a copy of a slice from a DataFrame\n",
      "\n",
      "See the caveats in the documentation: https://pandas.pydata.org/pandas-docs/stable/user_guide/indexing.html#returning-a-view-versus-a-copy\n",
      "  return super().drop(\n",
      "C:\\Users\\aliis\\anaconda3\\lib\\site-packages\\pandas\\core\\frame.py:4906: SettingWithCopyWarning: \n",
      "A value is trying to be set on a copy of a slice from a DataFrame\n",
      "\n",
      "See the caveats in the documentation: https://pandas.pydata.org/pandas-docs/stable/user_guide/indexing.html#returning-a-view-versus-a-copy\n",
      "  return super().drop(\n",
      "C:\\Users\\aliis\\AppData\\Local\\Temp/ipykernel_14420/2642686688.py:14: SettingWithCopyWarning: \n",
      "A value is trying to be set on a copy of a slice from a DataFrame.\n",
      "Try using .loc[row_indexer,col_indexer] = value instead\n",
      "\n",
      "See the caveats in the documentation: https://pandas.pydata.org/pandas-docs/stable/user_guide/indexing.html#returning-a-view-versus-a-copy\n",
      "  testdf['web_corpus_freq']= pred # ottengo valori mancanti\n"
     ]
    },
    {
     "data": {
      "text/plain": [
       "585     9.647566e+06\n",
       "753     5.266181e+07\n",
       "1070    1.147744e+08\n",
       "1076    2.012228e+07\n",
       "1540    2.071339e+07\n",
       "1559    8.012922e+07\n",
       "2673    1.120161e+08\n",
       "2724    1.146108e+08\n",
       "2726    6.655875e+07\n",
       "3773   -2.149065e+06\n",
       "4347    1.226303e+08\n",
       "4365    6.885716e+07\n",
       "4373    1.189524e+07\n",
       "4668   -1.281355e+07\n",
       "Name: web_corpus_freq, dtype: float64"
      ]
     },
     "execution_count": 21,
     "metadata": {},
     "output_type": "execute_result"
    }
   ],
   "source": [
    "from sklearn.linear_model import LinearRegression\n",
    "lr = LinearRegression()\n",
    "testdf = updated_df2[updated_df2['web_corpus_freq'].isnull()==True] # creazione dataset per test (solo valori nulli)\n",
    "traindf = updated_df2[updated_df2['web_corpus_freq'].isnull()==False] # creazione dataset per addestramento (solo valori non nulli)\n",
    "\n",
    "# Addestramento modello\n",
    "y = traindf['web_corpus_freq'] # ottengo variabile target\n",
    "traindf.drop(\"web_corpus_freq\",axis=1,inplace=True) # elimino variabile target da train set\n",
    "lr.fit(traindf,y) # addestro modello con train set e variabile target\n",
    "\n",
    "# Utilizzo modello su test set\n",
    "testdf.drop(\"web_corpus_freq\",axis=1,inplace=True) # elimino var target da test set\n",
    "pred = lr.predict(testdf) #utilizzo modello addestrato su testset\n",
    "testdf['web_corpus_freq']= pred # ottengo valori mancanti \n",
    "\n",
    "testdf['web_corpus_freq']"
   ]
  },
  {
   "cell_type": "code",
   "execution_count": 22,
   "metadata": {},
   "outputs": [
    {
     "name": "stderr",
     "output_type": "stream",
     "text": [
      "C:\\Users\\aliis\\AppData\\Local\\Temp/ipykernel_14420/2563809247.py:4: SettingWithCopyWarning: \n",
      "A value is trying to be set on a copy of a slice from a DataFrame\n",
      "\n",
      "See the caveats in the documentation: https://pandas.pydata.org/pandas-docs/stable/user_guide/indexing.html#returning-a-view-versus-a-copy\n",
      "  updated_df2_with_name['web_corpus_freq'][i] = abs(round(testdf['web_corpus_freq'][i],0))\n"
     ]
    },
    {
     "data": {
      "text/html": [
       "<div>\n",
       "<style scoped>\n",
       "    .dataframe tbody tr th:only-of-type {\n",
       "        vertical-align: middle;\n",
       "    }\n",
       "\n",
       "    .dataframe tbody tr th {\n",
       "        vertical-align: top;\n",
       "    }\n",
       "\n",
       "    .dataframe thead th {\n",
       "        text-align: right;\n",
       "    }\n",
       "</style>\n",
       "<table border=\"1\" class=\"dataframe\">\n",
       "  <thead>\n",
       "    <tr style=\"text-align: right;\">\n",
       "      <th></th>\n",
       "      <th>word</th>\n",
       "      <th>length</th>\n",
       "      <th>arousal</th>\n",
       "      <th>valence</th>\n",
       "      <th>dominance</th>\n",
       "      <th>concreteness</th>\n",
       "      <th>imageability</th>\n",
       "      <th>familiarity</th>\n",
       "      <th>aoa</th>\n",
       "      <th>semsize</th>\n",
       "      <th>gender</th>\n",
       "      <th>polysemy</th>\n",
       "      <th>web_corpus_freq</th>\n",
       "    </tr>\n",
       "  </thead>\n",
       "  <tbody>\n",
       "    <tr>\n",
       "      <th>0</th>\n",
       "      <td>abattoir</td>\n",
       "      <td>8</td>\n",
       "      <td>4.200</td>\n",
       "      <td>2.864</td>\n",
       "      <td>4.333</td>\n",
       "      <td>5.455</td>\n",
       "      <td>4.391</td>\n",
       "      <td>2.382</td>\n",
       "      <td>6.760</td>\n",
       "      <td>4.652</td>\n",
       "      <td>5.391</td>\n",
       "      <td>0</td>\n",
       "      <td>160074.0</td>\n",
       "    </tr>\n",
       "    <tr>\n",
       "      <th>1</th>\n",
       "      <td>abbey</td>\n",
       "      <td>5</td>\n",
       "      <td>3.125</td>\n",
       "      <td>5.781</td>\n",
       "      <td>4.667</td>\n",
       "      <td>5.906</td>\n",
       "      <td>5.344</td>\n",
       "      <td>3.324</td>\n",
       "      <td>5.177</td>\n",
       "      <td>5.121</td>\n",
       "      <td>3.303</td>\n",
       "      <td>0</td>\n",
       "      <td>4224864.0</td>\n",
       "    </tr>\n",
       "    <tr>\n",
       "      <th>2</th>\n",
       "      <td>abbreviate</td>\n",
       "      <td>10</td>\n",
       "      <td>3.273</td>\n",
       "      <td>5.250</td>\n",
       "      <td>5.235</td>\n",
       "      <td>3.286</td>\n",
       "      <td>3.177</td>\n",
       "      <td>5.121</td>\n",
       "      <td>5.543</td>\n",
       "      <td>2.667</td>\n",
       "      <td>3.971</td>\n",
       "      <td>0</td>\n",
       "      <td>140105.0</td>\n",
       "    </tr>\n",
       "    <tr>\n",
       "      <th>3</th>\n",
       "      <td>abdicate</td>\n",
       "      <td>8</td>\n",
       "      <td>4.194</td>\n",
       "      <td>3.767</td>\n",
       "      <td>4.419</td>\n",
       "      <td>3.367</td>\n",
       "      <td>2.516</td>\n",
       "      <td>3.971</td>\n",
       "      <td>6.233</td>\n",
       "      <td>4.679</td>\n",
       "      <td>5.167</td>\n",
       "      <td>0</td>\n",
       "      <td>124123.0</td>\n",
       "    </tr>\n",
       "    <tr>\n",
       "      <th>4</th>\n",
       "      <td>abdication</td>\n",
       "      <td>10</td>\n",
       "      <td>3.846</td>\n",
       "      <td>3.880</td>\n",
       "      <td>4.800</td>\n",
       "      <td>3.292</td>\n",
       "      <td>2.571</td>\n",
       "      <td>3.097</td>\n",
       "      <td>6.407</td>\n",
       "      <td>5.083</td>\n",
       "      <td>4.571</td>\n",
       "      <td>0</td>\n",
       "      <td>128143.0</td>\n",
       "    </tr>\n",
       "  </tbody>\n",
       "</table>\n",
       "</div>"
      ],
      "text/plain": [
       "         word  length  arousal  valence  dominance  concreteness  \\\n",
       "0    abattoir       8    4.200    2.864      4.333         5.455   \n",
       "1       abbey       5    3.125    5.781      4.667         5.906   \n",
       "2  abbreviate      10    3.273    5.250      5.235         3.286   \n",
       "3    abdicate       8    4.194    3.767      4.419         3.367   \n",
       "4  abdication      10    3.846    3.880      4.800         3.292   \n",
       "\n",
       "   imageability  familiarity    aoa  semsize  gender  polysemy  \\\n",
       "0         4.391        2.382  6.760    4.652   5.391         0   \n",
       "1         5.344        3.324  5.177    5.121   3.303         0   \n",
       "2         3.177        5.121  5.543    2.667   3.971         0   \n",
       "3         2.516        3.971  6.233    4.679   5.167         0   \n",
       "4         2.571        3.097  6.407    5.083   4.571         0   \n",
       "\n",
       "   web_corpus_freq  \n",
       "0         160074.0  \n",
       "1        4224864.0  \n",
       "2         140105.0  \n",
       "3         124123.0  \n",
       "4         128143.0  "
      ]
     },
     "execution_count": 22,
     "metadata": {},
     "output_type": "execute_result"
    }
   ],
   "source": [
    "# Inserisco valori predetti nel dataset\n",
    "index_list = testdf['web_corpus_freq'].index\n",
    "for i in index_list:\n",
    "    updated_df2_with_name['web_corpus_freq'][i] = abs(round(testdf['web_corpus_freq'][i],0))\n",
    "updated_df2_with_name.head()"
   ]
  },
  {
   "cell_type": "code",
   "execution_count": 23,
   "metadata": {},
   "outputs": [
    {
     "name": "stdout",
     "output_type": "stream",
     "text": [
      "1 )  585 : burgle \t 27819488.0 \t 9647566.0\n",
      "2 )  753 : Christmas \t 27318959.0 \t 52661807.0\n",
      "3 )  1070 : Dad \t 143590165.0 \t 114774441.0\n",
      "4 )  1076 : Dame \t 778685.0 \t 20122281.0\n",
      "5 )  1540 : Facebook \t nan \t 20713390.0\n",
      "6 )  1559 : FALSE \t 6529086.0 \t 80129218.0\n",
      "7 )  2673 : Mom \t 17862292.5 \t 112016071.0\n",
      "8 )  2724 : Mum \t 103260853.0 \t 114610797.0\n",
      "9 )  2726 : Mummy \t 19474194.5 \t 66558747.0\n",
      "10 )  3773 : skijump \t 2586257.0 \t 2149065.0\n",
      "11 )  4347 : TRUE \t 7113539.0 \t 122630346.0\n",
      "12 )  4365 : TV \t 29237400.0 \t 68857159.0\n",
      "13 )  4373 : Twitter \t 14627316.5 \t 11895241.0\n",
      "14 )  4668 : yo-yo \t 2214061.5 \t 12813554.0\n"
     ]
    }
   ],
   "source": [
    "# stampa i valori mancanti \n",
    "vals = list(df['word'].unique()) \n",
    "count = 1\n",
    "dic ={}\n",
    "for i, val in enumerate(vals):\n",
    "    try:\n",
    "        if df['web_corpus_freq'].isna()[i] == True:\n",
    "            print(count, \") \", i, \":\", val, \"\\t\", updated_df['web_corpus_freq'][i], \"\\t\", updated_df2_with_name['web_corpus_freq'][i])\n",
    "            count = count +1\n",
    "            dic[val] = updated_df2_with_name['web_corpus_freq'][i]\n",
    "    except:\n",
    "       # print(\"\\nErrore: \", i , \"\\n\")\n",
    "        pass"
   ]
  },
  {
   "cell_type": "code",
   "execution_count": 24,
   "metadata": {},
   "outputs": [
    {
     "name": "stdout",
     "output_type": "stream",
     "text": [
      "TRUE 122630346.0\n",
      "Dad 114774441.0\n",
      "Mum 114610797.0\n",
      "Mom 112016071.0\n",
      "FALSE 80129218.0\n",
      "TV 68857159.0\n",
      "Mummy 66558747.0\n",
      "Christmas 52661807.0\n",
      "Facebook 20713390.0\n",
      "Dame 20122281.0\n",
      "yo-yo 12813554.0\n",
      "Twitter 11895241.0\n",
      "burgle 9647566.0\n",
      "skijump 2149065.0\n"
     ]
    }
   ],
   "source": [
    "# stampa valori in ordine\n",
    "for word in sorted(dic, key=dic.get, reverse=True):\n",
    "    print(word, dic[word])"
   ]
  },
  {
   "cell_type": "code",
   "execution_count": 25,
   "metadata": {},
   "outputs": [
    {
     "data": {
      "image/png": "[encoded data removed]",
      "text/plain": [
       "<Figure size 432x288 with 2 Axes>"
      ]
     },
     "metadata": {
      "needs_background": "light"
     },
     "output_type": "display_data"
    }
   ],
   "source": [
    "plt.subplot(1,2,1)\n",
    "plt.hist(df['web_corpus_freq'],edgecolor = 'w') \n",
    "\n",
    "plt.subplot(1,2,2)\n",
    "plt.hist(updated_df2_with_name['web_corpus_freq'],edgecolor = 'w') \n",
    "\n",
    "plt.tight_layout()\n",
    "plt.show()"
   ]
  },
  {
   "cell_type": "code",
   "execution_count": 26,
   "metadata": {},
   "outputs": [
    {
     "name": "stdout",
     "output_type": "stream",
     "text": [
      "0.9224199288256227\n"
     ]
    }
   ],
   "source": [
    "#Calcolo Accuracy\n",
    "updated_df2_acc = updated_df2_with_name.copy(deep=True)\n",
    "updated_df2_acc.drop(\"word\",axis=1,inplace=True)\n",
    "\n",
    "y1 = updated_df2_acc['polysemy']\n",
    "updated_df2_acc.drop(\"polysemy\",axis=1,inplace=True)\n",
    "from sklearn import metrics\n",
    "from sklearn.model_selection import train_test_split\n",
    "X_train, X_test,y_train,y_test = train_test_split(updated_df2_acc,y1,test_size=0.3)\n",
    "from sklearn.linear_model import LogisticRegression\n",
    "lr = LogisticRegression()\n",
    "lr.fit(X_train,y_train)\n",
    "pred = lr.predict(X_test)\n",
    "print(metrics.accuracy_score(pred,y_test))"
   ]
  },
  {
   "cell_type": "markdown",
   "metadata": {},
   "source": [
    "### Eliminazione righe"
   ]
  },
  {
   "cell_type": "code",
   "execution_count": 27,
   "metadata": {},
   "outputs": [],
   "source": [
    "updated_df3 = pd.read_csv('words_glasgow.csv')\n",
    "\n",
    "updated_df3 = updated_df3.dropna(axis=0)"
   ]
  },
  {
   "cell_type": "code",
   "execution_count": 28,
   "metadata": {},
   "outputs": [
    {
     "name": "stdout",
     "output_type": "stream",
     "text": [
      "<class 'pandas.core.frame.DataFrame'>\n",
      "Int64Index: 4668 entries, 0 to 4681\n",
      "Data columns (total 13 columns):\n",
      " #   Column           Non-Null Count  Dtype  \n",
      "---  ------           --------------  -----  \n",
      " 0   word             4668 non-null   object \n",
      " 1   length           4668 non-null   int64  \n",
      " 2   arousal          4668 non-null   float64\n",
      " 3   valence          4668 non-null   float64\n",
      " 4   dominance        4668 non-null   float64\n",
      " 5   concreteness     4668 non-null   float64\n",
      " 6   imageability     4668 non-null   float64\n",
      " 7   familiarity      4668 non-null   float64\n",
      " 8   aoa              4668 non-null   float64\n",
      " 9   semsize          4668 non-null   float64\n",
      " 10  gender           4668 non-null   float64\n",
      " 11  polysemy         4668 non-null   int64  \n",
      " 12  web_corpus_freq  4668 non-null   float64\n",
      "dtypes: float64(10), int64(2), object(1)\n",
      "memory usage: 510.6+ KB\n"
     ]
    }
   ],
   "source": [
    "updated_df3.info()"
   ]
  },
  {
   "cell_type": "code",
   "execution_count": 29,
   "metadata": {},
   "outputs": [
    {
     "name": "stdout",
     "output_type": "stream",
     "text": [
      "0.9179157744468237\n"
     ]
    }
   ],
   "source": [
    "#Calcolo Accuracy\n",
    "updated_df3_acc = updated_df3.copy(deep=True)\n",
    "updated_df3_acc.drop(\"word\",axis=1,inplace=True)\n",
    "\n",
    "y1 = updated_df3_acc['polysemy']\n",
    "updated_df3_acc.drop(\"polysemy\",axis=1,inplace=True)\n",
    "\n",
    "from sklearn import metrics\n",
    "from sklearn.model_selection import train_test_split\n",
    "X_train, X_test,y_train,y_test = train_test_split(updated_df3_acc,y1,test_size=0.3)\n",
    "from sklearn.linear_model import LogisticRegression\n",
    "lr = LogisticRegression()\n",
    "lr.fit(X_train,y_train)\n",
    "pred = lr.predict(X_test)\n",
    "print(metrics.accuracy_score(pred,y_test))"
   ]
  },
  {
   "cell_type": "markdown",
   "metadata": {},
   "source": [
    "## Outliers <a name=\"outlier\"></a>"
   ]
  },
  {
   "cell_type": "code",
   "execution_count": 30,
   "metadata": {},
   "outputs": [
    {
     "data": {
      "text/html": [
       "<div>\n",
       "<style scoped>\n",
       "    .dataframe tbody tr th:only-of-type {\n",
       "        vertical-align: middle;\n",
       "    }\n",
       "\n",
       "    .dataframe tbody tr th {\n",
       "        vertical-align: top;\n",
       "    }\n",
       "\n",
       "    .dataframe thead th {\n",
       "        text-align: right;\n",
       "    }\n",
       "</style>\n",
       "<table border=\"1\" class=\"dataframe\">\n",
       "  <thead>\n",
       "    <tr style=\"text-align: right;\">\n",
       "      <th></th>\n",
       "      <th>word</th>\n",
       "      <th>length</th>\n",
       "      <th>arousal</th>\n",
       "      <th>valence</th>\n",
       "      <th>dominance</th>\n",
       "      <th>concreteness</th>\n",
       "      <th>imageability</th>\n",
       "      <th>familiarity</th>\n",
       "      <th>aoa</th>\n",
       "      <th>semsize</th>\n",
       "      <th>gender</th>\n",
       "      <th>polysemy</th>\n",
       "      <th>web_corpus_freq</th>\n",
       "    </tr>\n",
       "  </thead>\n",
       "  <tbody>\n",
       "    <tr>\n",
       "      <th>0</th>\n",
       "      <td>abattoir</td>\n",
       "      <td>8</td>\n",
       "      <td>4.200</td>\n",
       "      <td>2.864</td>\n",
       "      <td>4.333</td>\n",
       "      <td>5.455</td>\n",
       "      <td>4.391</td>\n",
       "      <td>2.382</td>\n",
       "      <td>6.760</td>\n",
       "      <td>4.652</td>\n",
       "      <td>5.391</td>\n",
       "      <td>0</td>\n",
       "      <td>160074.0</td>\n",
       "    </tr>\n",
       "    <tr>\n",
       "      <th>1</th>\n",
       "      <td>abbey</td>\n",
       "      <td>5</td>\n",
       "      <td>3.125</td>\n",
       "      <td>5.781</td>\n",
       "      <td>4.667</td>\n",
       "      <td>5.906</td>\n",
       "      <td>5.344</td>\n",
       "      <td>3.324</td>\n",
       "      <td>5.177</td>\n",
       "      <td>5.121</td>\n",
       "      <td>3.303</td>\n",
       "      <td>0</td>\n",
       "      <td>4224864.0</td>\n",
       "    </tr>\n",
       "    <tr>\n",
       "      <th>2</th>\n",
       "      <td>abbreviate</td>\n",
       "      <td>10</td>\n",
       "      <td>3.273</td>\n",
       "      <td>5.250</td>\n",
       "      <td>5.235</td>\n",
       "      <td>3.286</td>\n",
       "      <td>3.177</td>\n",
       "      <td>5.121</td>\n",
       "      <td>5.543</td>\n",
       "      <td>2.667</td>\n",
       "      <td>3.971</td>\n",
       "      <td>0</td>\n",
       "      <td>140105.0</td>\n",
       "    </tr>\n",
       "    <tr>\n",
       "      <th>3</th>\n",
       "      <td>abdicate</td>\n",
       "      <td>8</td>\n",
       "      <td>4.194</td>\n",
       "      <td>3.767</td>\n",
       "      <td>4.419</td>\n",
       "      <td>3.367</td>\n",
       "      <td>2.516</td>\n",
       "      <td>3.971</td>\n",
       "      <td>6.233</td>\n",
       "      <td>4.679</td>\n",
       "      <td>5.167</td>\n",
       "      <td>0</td>\n",
       "      <td>124123.0</td>\n",
       "    </tr>\n",
       "    <tr>\n",
       "      <th>4</th>\n",
       "      <td>abdication</td>\n",
       "      <td>10</td>\n",
       "      <td>3.846</td>\n",
       "      <td>3.880</td>\n",
       "      <td>4.800</td>\n",
       "      <td>3.292</td>\n",
       "      <td>2.571</td>\n",
       "      <td>3.097</td>\n",
       "      <td>6.407</td>\n",
       "      <td>5.083</td>\n",
       "      <td>4.571</td>\n",
       "      <td>0</td>\n",
       "      <td>128143.0</td>\n",
       "    </tr>\n",
       "  </tbody>\n",
       "</table>\n",
       "</div>"
      ],
      "text/plain": [
       "         word  length  arousal  valence  dominance  concreteness  \\\n",
       "0    abattoir       8    4.200    2.864      4.333         5.455   \n",
       "1       abbey       5    3.125    5.781      4.667         5.906   \n",
       "2  abbreviate      10    3.273    5.250      5.235         3.286   \n",
       "3    abdicate       8    4.194    3.767      4.419         3.367   \n",
       "4  abdication      10    3.846    3.880      4.800         3.292   \n",
       "\n",
       "   imageability  familiarity    aoa  semsize  gender  polysemy  \\\n",
       "0         4.391        2.382  6.760    4.652   5.391         0   \n",
       "1         5.344        3.324  5.177    5.121   3.303         0   \n",
       "2         3.177        5.121  5.543    2.667   3.971         0   \n",
       "3         2.516        3.971  6.233    4.679   5.167         0   \n",
       "4         2.571        3.097  6.407    5.083   4.571         0   \n",
       "\n",
       "   web_corpus_freq  \n",
       "0         160074.0  \n",
       "1        4224864.0  \n",
       "2         140105.0  \n",
       "3         124123.0  \n",
       "4         128143.0  "
      ]
     },
     "execution_count": 30,
     "metadata": {},
     "output_type": "execute_result"
    }
   ],
   "source": [
    "#df_norm = pd.read_csv('words_glasgow.csv')\n",
    "df = pd.read_csv('words_glasgow.csv')\n",
    "df.head()"
   ]
  },
  {
   "cell_type": "code",
   "execution_count": 31,
   "metadata": {},
   "outputs": [
    {
     "data": {
      "text/plain": [
       "<AxesSubplot:>"
      ]
     },
     "execution_count": 31,
     "metadata": {},
     "output_type": "execute_result"
    },
    {
     "data": {
      "image/png": "[encoded data removed]",
      "text/plain": [
       "<Figure size 1080x648 with 1 Axes>"
      ]
     },
     "metadata": {
      "needs_background": "light"
     },
     "output_type": "display_data"
    }
   ],
   "source": [
    "df.drop(['web_corpus_freq'],axis=1).boxplot(figsize=(15,9),  rot=45,)\n",
    "\n",
    "\n",
    "#df.boxplot(column= ['web_corpus_freq']) \n"
   ]
  },
  {
   "cell_type": "code",
   "execution_count": 32,
   "metadata": {},
   "outputs": [
    {
     "data": {
      "text/plain": [
       "<AxesSubplot:>"
      ]
     },
     "execution_count": 32,
     "metadata": {},
     "output_type": "execute_result"
    },
    {
     "data": {
      "image/png": "[encoded data removed]",
      "text/plain": [
       "<Figure size 720x504 with 1 Axes>"
      ]
     },
     "metadata": {
      "needs_background": "light"
     },
     "output_type": "display_data"
    }
   ],
   "source": [
    "df.boxplot(column= ['web_corpus_freq'],figsize=(10,7),  rot=45)"
   ]
  },
  {
   "cell_type": "markdown",
   "metadata": {},
   "source": [
    "Variabili con outliers: \n",
    "- length\n",
    "- arousal\n",
    "- valence\n",
    "- <b>dominance</b>\n",
    "- <b>familiarity</b>\n",
    "- <b>gender</b>\n",
    "- polysemy\n",
    "- <b>web_corpus_freq</b>"
   ]
  },
  {
   "cell_type": "markdown",
   "metadata": {},
   "source": [
    "## Eliminazione diretta degli outliers \n",
    "Non è possibile poiché i valori delle variabili (e di conseguenza anche degli outliers) sono di natura soggettiva e quindi è necessario analizzarli singolamente ed eventualkmente eliminarli"
   ]
  },
  {
   "cell_type": "code",
   "execution_count": 33,
   "metadata": {},
   "outputs": [],
   "source": [
    "# calcolo limite inferiore e superiore outliers\n",
    "def get_iqr_values(col): \n",
    "    q1 = col.quantile(q = 0.25) # calcolo primo quartile\n",
    "    q3 = col.quantile(q = 0.75) # calcolo terzo quartile\n",
    "    iqr = q3 - q1\n",
    "    iqr_left = q1 - 1.5*iqr\n",
    "    iqr_right = q3 + 1.5*iqr\n",
    "    return iqr_left, iqr_right"
   ]
  },
  {
   "cell_type": "code",
   "execution_count": 34,
   "metadata": {},
   "outputs": [],
   "source": [
    "left_l, right_l = get_iqr_values(df.length) \n",
    "left_a, right_a = get_iqr_values(df.arousal) \n",
    "left_v, right_v = get_iqr_values(df.valence) \n",
    "left_d, right_d = get_iqr_values(df.dominance) \n",
    "left_f, right_f = get_iqr_values(df.familiarity) \n",
    "left_g, right_g = get_iqr_values(df.gender) \n",
    "left_p, right_p = get_iqr_values(df.polysemy) \n",
    "left_w, right_w = get_iqr_values(df.web_corpus_freq) "
   ]
  },
  {
   "cell_type": "code",
   "execution_count": 35,
   "metadata": {},
   "outputs": [
    {
     "data": {
      "image/png": "[encoded data removed]",
      "text/plain": [
       "<Figure size 432x288 with 1 Axes>"
      ]
     },
     "metadata": {
      "needs_background": "light"
     },
     "output_type": "display_data"
    }
   ],
   "source": [
    "df[(df.length > left_l) & (df.length < right_l)].length.plot.box()\n",
    "plt.show()"
   ]
  },
  {
   "cell_type": "code",
   "execution_count": 36,
   "metadata": {},
   "outputs": [
    {
     "data": {
      "text/plain": [
       "word               1224\n",
       "length             1224\n",
       "arousal            1224\n",
       "valence            1224\n",
       "dominance          1224\n",
       "concreteness       1224\n",
       "imageability       1224\n",
       "familiarity        1224\n",
       "aoa                1224\n",
       "semsize            1224\n",
       "gender             1224\n",
       "polysemy           1224\n",
       "web_corpus_freq    1219\n",
       "dtype: int64"
      ]
     },
     "execution_count": 36,
     "metadata": {},
     "output_type": "execute_result"
    }
   ],
   "source": [
    "df_outliers = df[(df.length < left_l) | (df.length > right_l) \n",
    "                 | (df.arousal < left_a) | (df.arousal > right_a) \n",
    "                 | (df.valence < left_v) | (df.valence > right_v)\n",
    "                 | (df.dominance < left_d) | (df.dominance > right_d)\n",
    "                 | (df.familiarity < left_f) | (df.familiarity > right_f)\n",
    "                 | (df.gender < left_g) | (df.gender > right_g)\n",
    "                 | (df.polysemy < left_p) | (df.polysemy > right_p)\n",
    "                 | (df.web_corpus_freq < left_w) | (df.web_corpus_freq > right_w)\n",
    "                ]\n",
    "df_outliers.count()"
   ]
  },
  {
   "cell_type": "code",
   "execution_count": 38,
   "metadata": {},
   "outputs": [
    {
     "ename": "NameError",
     "evalue": "name 'df_norm' is not defined",
     "output_type": "error",
     "traceback": [
      "\u001b[1;31m---------------------------------------------------------------------------\u001b[0m",
      "\u001b[1;31mNameError\u001b[0m                                 Traceback (most recent call last)",
      "\u001b[1;32m~\\AppData\\Local\\Temp/ipykernel_14420/2459926742.py\u001b[0m in \u001b[0;36m<module>\u001b[1;34m\u001b[0m\n\u001b[1;32m----> 1\u001b[1;33m \u001b[0mdf_norm\u001b[0m\u001b[1;33m(\u001b[0m\u001b[0mdf_outliers\u001b[0m\u001b[1;33m.\u001b[0m\u001b[0mindex\u001b[0m\u001b[1;33m,\u001b[0m \u001b[0minplace\u001b[0m\u001b[1;33m=\u001b[0m\u001b[1;32mTrue\u001b[0m\u001b[1;33m)\u001b[0m\u001b[1;33m\u001b[0m\u001b[1;33m\u001b[0m\u001b[0m\n\u001b[0m\u001b[0;32m      2\u001b[0m \u001b[0mdf\u001b[0m\u001b[1;33m.\u001b[0m\u001b[0mnorm\u001b[0m\u001b[1;33m(\u001b[0m\u001b[1;33m)\u001b[0m\u001b[1;33m\u001b[0m\u001b[1;33m\u001b[0m\u001b[0m\n",
      "\u001b[1;31mNameError\u001b[0m: name 'df_norm' is not defined"
     ]
    }
   ],
   "source": [
    "df_norm(df_outliers.index, inplace=True)\n",
    "df.norm()"
   ]
  },
  {
   "cell_type": "code",
   "execution_count": null,
   "metadata": {},
   "outputs": [],
   "source": [
    "df_norm.drop(['web_corpus_freq'],axis=1).boxplot(figsize=(15,9),  rot=45)\n",
    "plt.show()\n",
    "\n",
    "df_norm.boxplot(column= ['web_corpus_freq']) "
   ]
  },
  {
   "cell_type": "code",
   "execution_count": null,
   "metadata": {},
   "outputs": [],
   "source": [
    "sns.boxplot(data=df)"
   ]
  },
  {
   "cell_type": "markdown",
   "metadata": {},
   "source": [
    "## Analisi degli outlier delle singole variabili"
   ]
  },
  {
   "cell_type": "markdown",
   "metadata": {},
   "source": [
    "### Gestione degli outliers nella **lunghezza**"
   ]
  },
  {
   "cell_type": "code",
   "execution_count": 39,
   "metadata": {},
   "outputs": [
    {
     "data": {
      "text/plain": [
       "False    4666\n",
       "True       16\n",
       "Name: outlier, dtype: int64"
      ]
     },
     "execution_count": 39,
     "metadata": {},
     "output_type": "execute_result"
    }
   ],
   "source": [
    "df[\"outlier\"]=df[\"length\"]>=12.5\n",
    "df[\"outlier\"].value_counts()"
   ]
  },
  {
   "cell_type": "markdown",
   "metadata": {},
   "source": [
    "**16 outliers** nella variabile lunghezza"
   ]
  },
  {
   "cell_type": "code",
   "execution_count": 40,
   "metadata": {},
   "outputs": [
    {
     "data": {
      "text/plain": [
       "dtype('bool')"
      ]
     },
     "execution_count": 40,
     "metadata": {},
     "output_type": "execute_result"
    }
   ],
   "source": [
    "df[\"outlier\"].dtypes"
   ]
  },
  {
   "cell_type": "markdown",
   "metadata": {},
   "source": [
    "Gli outlers sono *booleani*"
   ]
  },
  {
   "cell_type": "code",
   "execution_count": 41,
   "metadata": {},
   "outputs": [
    {
     "data": {
      "text/plain": [
       "outlier  polysemy\n",
       "False    0           4287\n",
       "         1            379\n",
       "True     0             16\n",
       "Name: polysemy, dtype: int64"
      ]
     },
     "execution_count": 41,
     "metadata": {},
     "output_type": "execute_result"
    }
   ],
   "source": [
    "df.groupby(\"outlier\")[\"polysemy\"].value_counts()"
   ]
  },
  {
   "cell_type": "code",
   "execution_count": 42,
   "metadata": {},
   "outputs": [
    {
     "data": {
      "image/png": "[encoded data removed]",
      "text/plain": [
       "<Figure size 432x288 with 1 Axes>"
      ]
     },
     "metadata": {
      "needs_background": "light"
     },
     "output_type": "display_data"
    }
   ],
   "source": [
    "sns.countplot(x=\"outlier\", hue='polysemy', data=df, palette = 'Set2')\n",
    "#df.groupby(\"outlier\")[\"polysemy\"].value_counts().plot(kind = 'bar') \n",
    "plt.title(\"Distribuzione degli outliers della var lunghezza rispetto alla polisemia\")\n",
    "plt.xlabel(' Tipologia di outlier rispetto alla polisemia ', fontsize=12)\n",
    "plt.ylabel('Lunghezza delle parole', fontsize=12)  \n",
    "plt.legend([\"Non polisemiche\", \"Polisemiche\"]).set_title('Polisemia')\n",
    "plt.show()"
   ]
  },
  {
   "cell_type": "markdown",
   "metadata": {},
   "source": [
    "Tutti e 16 gli outlers della variabile lugnhezza sono NON polisemici (polysemy = 0)"
   ]
  },
  {
   "cell_type": "markdown",
   "metadata": {},
   "source": [
    "Per visualizzare meglio la distribuzione degli outliers della varlunghezza realizziamo un **grafico a torta**"
   ]
  },
  {
   "cell_type": "code",
   "execution_count": 43,
   "metadata": {},
   "outputs": [
    {
     "data": {
      "image/png": "[encoded data removed]",
      "text/plain": [
       "<Figure size 432x648 with 1 Axes>"
      ]
     },
     "metadata": {},
     "output_type": "display_data"
    }
   ],
   "source": [
    "colors = ['#fdbf6f', '#b2df8a', '#e31a1c']\n",
    "labels = ['No outliers e non polisemico', \"No outliers e polisemico\", \"Outliers non polisemico\"]\n",
    "explode = (0, 0.0,0.1)\n",
    "plt.rcParams[\"figure.figsize\"] = [6, 9]\n",
    "\n",
    "\n",
    "plt.pie(df.groupby(\"outlier\")[\"polysemy\"].value_counts(), autopct = '%1.1f%%', labels = labels, shadow = False, colors = colors, explode = explode, startangle=150,  textprops={'fontsize': 16})\n",
    "\n",
    "#plt.legend(['No outliers e non polisemico', \"No outliers e polisemico\", \"Outliers non polisemico\"])\n",
    "\n",
    "#plt.title(\"Distribuzione delle parole e degli outliers della var lunghezza\")\n",
    "#plt.label(fontsize=16, rotation=60)\n",
    "plt.show()"
   ]
  },
  {
   "cell_type": "markdown",
   "metadata": {},
   "source": [
    "### Gestione degli outliers nella **web_frequency**"
   ]
  },
  {
   "cell_type": "code",
   "execution_count": 44,
   "metadata": {},
   "outputs": [
    {
     "data": {
      "image/png": "[encoded data removed]",
      "text/plain": [
       "<Figure size 1440x864 with 1 Axes>"
      ]
     },
     "metadata": {
      "needs_background": "light"
     },
     "output_type": "display_data"
    }
   ],
   "source": [
    "df.boxplot(figsize=(20,12))\n",
    "plt.show()\n",
    "\n"
   ]
  },
  {
   "cell_type": "code",
   "execution_count": 45,
   "metadata": {},
   "outputs": [
    {
     "data": {
      "text/plain": [
       "True     4668\n",
       "False      14\n",
       "Name: outlier_freq, dtype: int64"
      ]
     },
     "execution_count": 45,
     "metadata": {},
     "output_type": "execute_result"
    }
   ],
   "source": [
    "df[\"outlier_freq\"] = df[\"web_corpus_freq\"]>= 0.50\n",
    "df[\"outlier_freq\"].value_counts()"
   ]
  },
  {
   "cell_type": "code",
   "execution_count": 46,
   "metadata": {},
   "outputs": [
    {
     "data": {
      "text/plain": [
       "dtype('bool')"
      ]
     },
     "execution_count": 46,
     "metadata": {},
     "output_type": "execute_result"
    }
   ],
   "source": [
    "df[\"outlier_freq\"].dtypes"
   ]
  },
  {
   "cell_type": "code",
   "execution_count": 47,
   "metadata": {},
   "outputs": [
    {
     "data": {
      "text/plain": [
       "outlier_freq  polysemy\n",
       "False         0             14\n",
       "True          0           4289\n",
       "              1            379\n",
       "Name: polysemy, dtype: int64"
      ]
     },
     "execution_count": 47,
     "metadata": {},
     "output_type": "execute_result"
    }
   ],
   "source": [
    "df.groupby(\"outlier_freq\")[\"polysemy\"].value_counts()"
   ]
  },
  {
   "cell_type": "code",
   "execution_count": 48,
   "metadata": {},
   "outputs": [
    {
     "data": {
      "image/png": "[encoded data removed]",
      "text/plain": [
       "<Figure size 432x648 with 1 Axes>"
      ]
     },
     "metadata": {
      "needs_background": "light"
     },
     "output_type": "display_data"
    }
   ],
   "source": [
    "sns.countplot(x=\"outlier_freq\", hue='polysemy', data=df, palette = 'Set2')\n",
    "#df.groupby(\"outlier\")[\"polysemy\"].value_counts().plot(kind = 'bar') \n",
    "plt.title(\"Distribuzione degli outliers della var frequenza rispetto alla polisemia\")\n",
    "plt.xlabel(' Tipologia di outlier rispetto alla polisemia ', fontsize=12)\n",
    "plt.ylabel('Lunghezza delle parole', fontsize=12)  \n",
    "plt.legend([\"Non polisemiche\", \"Polisemiche\"]).set_title('Polisemia')\n",
    "plt.show()"
   ]
  },
  {
   "cell_type": "code",
   "execution_count": 49,
   "metadata": {},
   "outputs": [
    {
     "data": {
      "text/html": [
       "<div>\n",
       "<style scoped>\n",
       "    .dataframe tbody tr th:only-of-type {\n",
       "        vertical-align: middle;\n",
       "    }\n",
       "\n",
       "    .dataframe tbody tr th {\n",
       "        vertical-align: top;\n",
       "    }\n",
       "\n",
       "    .dataframe thead th {\n",
       "        text-align: right;\n",
       "    }\n",
       "</style>\n",
       "<table border=\"1\" class=\"dataframe\">\n",
       "  <thead>\n",
       "    <tr style=\"text-align: right;\">\n",
       "      <th></th>\n",
       "      <th>length</th>\n",
       "      <th>arousal</th>\n",
       "      <th>valence</th>\n",
       "      <th>dominance</th>\n",
       "      <th>concreteness</th>\n",
       "      <th>imageability</th>\n",
       "      <th>familiarity</th>\n",
       "      <th>aoa</th>\n",
       "      <th>semsize</th>\n",
       "      <th>gender</th>\n",
       "      <th>polysemy</th>\n",
       "      <th>web_corpus_freq</th>\n",
       "    </tr>\n",
       "  </thead>\n",
       "  <tbody>\n",
       "    <tr>\n",
       "      <th>count</th>\n",
       "      <td>4682.000000</td>\n",
       "      <td>4682.000000</td>\n",
       "      <td>4682.000000</td>\n",
       "      <td>4682.000000</td>\n",
       "      <td>4682.000000</td>\n",
       "      <td>4682.000000</td>\n",
       "      <td>4682.000000</td>\n",
       "      <td>4682.000000</td>\n",
       "      <td>4682.000000</td>\n",
       "      <td>4682.000000</td>\n",
       "      <td>4682.000000</td>\n",
       "      <td>4.668000e+03</td>\n",
       "    </tr>\n",
       "    <tr>\n",
       "      <th>mean</th>\n",
       "      <td>6.348355</td>\n",
       "      <td>4.678129</td>\n",
       "      <td>5.086797</td>\n",
       "      <td>5.044939</td>\n",
       "      <td>4.566273</td>\n",
       "      <td>4.723018</td>\n",
       "      <td>5.271335</td>\n",
       "      <td>4.143427</td>\n",
       "      <td>4.136403</td>\n",
       "      <td>4.099933</td>\n",
       "      <td>0.080948</td>\n",
       "      <td>2.988976e+07</td>\n",
       "    </tr>\n",
       "    <tr>\n",
       "      <th>std</th>\n",
       "      <td>2.006230</td>\n",
       "      <td>1.097163</td>\n",
       "      <td>1.594344</td>\n",
       "      <td>0.930669</td>\n",
       "      <td>1.433689</td>\n",
       "      <td>1.363110</td>\n",
       "      <td>0.921218</td>\n",
       "      <td>1.252770</td>\n",
       "      <td>1.023293</td>\n",
       "      <td>0.912293</td>\n",
       "      <td>0.272785</td>\n",
       "      <td>8.490144e+07</td>\n",
       "    </tr>\n",
       "    <tr>\n",
       "      <th>min</th>\n",
       "      <td>2.000000</td>\n",
       "      <td>2.057000</td>\n",
       "      <td>1.030000</td>\n",
       "      <td>1.941000</td>\n",
       "      <td>1.636000</td>\n",
       "      <td>1.737000</td>\n",
       "      <td>1.647000</td>\n",
       "      <td>1.219000</td>\n",
       "      <td>1.375000</td>\n",
       "      <td>1.000000</td>\n",
       "      <td>0.000000</td>\n",
       "      <td>1.277000e+04</td>\n",
       "    </tr>\n",
       "    <tr>\n",
       "      <th>25%</th>\n",
       "      <td>5.000000</td>\n",
       "      <td>3.849000</td>\n",
       "      <td>4.115000</td>\n",
       "      <td>4.529000</td>\n",
       "      <td>3.242000</td>\n",
       "      <td>3.519250</td>\n",
       "      <td>4.706000</td>\n",
       "      <td>3.114000</td>\n",
       "      <td>3.438000</td>\n",
       "      <td>3.606000</td>\n",
       "      <td>0.000000</td>\n",
       "      <td>1.671100e+06</td>\n",
       "    </tr>\n",
       "    <tr>\n",
       "      <th>50%</th>\n",
       "      <td>6.000000</td>\n",
       "      <td>4.571000</td>\n",
       "      <td>5.290000</td>\n",
       "      <td>5.123000</td>\n",
       "      <td>4.471000</td>\n",
       "      <td>4.677000</td>\n",
       "      <td>5.438000</td>\n",
       "      <td>4.177000</td>\n",
       "      <td>4.186500</td>\n",
       "      <td>4.121000</td>\n",
       "      <td>0.000000</td>\n",
       "      <td>5.702982e+06</td>\n",
       "    </tr>\n",
       "    <tr>\n",
       "      <th>75%</th>\n",
       "      <td>8.000000</td>\n",
       "      <td>5.419000</td>\n",
       "      <td>6.088000</td>\n",
       "      <td>5.600000</td>\n",
       "      <td>5.971000</td>\n",
       "      <td>6.032000</td>\n",
       "      <td>5.969000</td>\n",
       "      <td>5.152000</td>\n",
       "      <td>4.882000</td>\n",
       "      <td>4.656000</td>\n",
       "      <td>0.000000</td>\n",
       "      <td>2.232705e+07</td>\n",
       "    </tr>\n",
       "    <tr>\n",
       "      <th>max</th>\n",
       "      <td>16.000000</td>\n",
       "      <td>8.177000</td>\n",
       "      <td>8.647000</td>\n",
       "      <td>8.371000</td>\n",
       "      <td>6.938000</td>\n",
       "      <td>6.941000</td>\n",
       "      <td>6.939000</td>\n",
       "      <td>6.971000</td>\n",
       "      <td>6.912000</td>\n",
       "      <td>6.971000</td>\n",
       "      <td>1.000000</td>\n",
       "      <td>2.022460e+09</td>\n",
       "    </tr>\n",
       "  </tbody>\n",
       "</table>\n",
       "</div>"
      ],
      "text/plain": [
       "            length      arousal      valence    dominance  concreteness  \\\n",
       "count  4682.000000  4682.000000  4682.000000  4682.000000   4682.000000   \n",
       "mean      6.348355     4.678129     5.086797     5.044939      4.566273   \n",
       "std       2.006230     1.097163     1.594344     0.930669      1.433689   \n",
       "min       2.000000     2.057000     1.030000     1.941000      1.636000   \n",
       "25%       5.000000     3.849000     4.115000     4.529000      3.242000   \n",
       "50%       6.000000     4.571000     5.290000     5.123000      4.471000   \n",
       "75%       8.000000     5.419000     6.088000     5.600000      5.971000   \n",
       "max      16.000000     8.177000     8.647000     8.371000      6.938000   \n",
       "\n",
       "       imageability  familiarity          aoa      semsize       gender  \\\n",
       "count   4682.000000  4682.000000  4682.000000  4682.000000  4682.000000   \n",
       "mean       4.723018     5.271335     4.143427     4.136403     4.099933   \n",
       "std        1.363110     0.921218     1.252770     1.023293     0.912293   \n",
       "min        1.737000     1.647000     1.219000     1.375000     1.000000   \n",
       "25%        3.519250     4.706000     3.114000     3.438000     3.606000   \n",
       "50%        4.677000     5.438000     4.177000     4.186500     4.121000   \n",
       "75%        6.032000     5.969000     5.152000     4.882000     4.656000   \n",
       "max        6.941000     6.939000     6.971000     6.912000     6.971000   \n",
       "\n",
       "          polysemy  web_corpus_freq  \n",
       "count  4682.000000     4.668000e+03  \n",
       "mean      0.080948     2.988976e+07  \n",
       "std       0.272785     8.490144e+07  \n",
       "min       0.000000     1.277000e+04  \n",
       "25%       0.000000     1.671100e+06  \n",
       "50%       0.000000     5.702982e+06  \n",
       "75%       0.000000     2.232705e+07  \n",
       "max       1.000000     2.022460e+09  "
      ]
     },
     "execution_count": 49,
     "metadata": {},
     "output_type": "execute_result"
    }
   ],
   "source": [
    "df.describe()"
   ]
  },
  {
   "cell_type": "code",
   "execution_count": 50,
   "metadata": {},
   "outputs": [],
   "source": [
    "df_norm = pd.read_csv(\"normative.csv\")"
   ]
  },
  {
   "cell_type": "code",
   "execution_count": 51,
   "metadata": {},
   "outputs": [
    {
     "data": {
      "text/html": [
       "<div>\n",
       "<style scoped>\n",
       "    .dataframe tbody tr th:only-of-type {\n",
       "        vertical-align: middle;\n",
       "    }\n",
       "\n",
       "    .dataframe tbody tr th {\n",
       "        vertical-align: top;\n",
       "    }\n",
       "\n",
       "    .dataframe thead th {\n",
       "        text-align: right;\n",
       "    }\n",
       "</style>\n",
       "<table border=\"1\" class=\"dataframe\">\n",
       "  <thead>\n",
       "    <tr style=\"text-align: right;\">\n",
       "      <th></th>\n",
       "      <th>length</th>\n",
       "      <th>arousal</th>\n",
       "      <th>valence</th>\n",
       "      <th>dominance</th>\n",
       "      <th>concreteness</th>\n",
       "      <th>imageability</th>\n",
       "      <th>familiarity</th>\n",
       "      <th>aoa</th>\n",
       "      <th>semsize</th>\n",
       "      <th>gender</th>\n",
       "      <th>polysemy</th>\n",
       "      <th>frequency_log</th>\n",
       "    </tr>\n",
       "  </thead>\n",
       "  <tbody>\n",
       "    <tr>\n",
       "      <th>count</th>\n",
       "      <td>4682.000000</td>\n",
       "      <td>4682.000000</td>\n",
       "      <td>4682.000000</td>\n",
       "      <td>4682.000000</td>\n",
       "      <td>4682.000000</td>\n",
       "      <td>4682.000000</td>\n",
       "      <td>4682.000000</td>\n",
       "      <td>4682.000000</td>\n",
       "      <td>4682.000000</td>\n",
       "      <td>4682.000000</td>\n",
       "      <td>4682.000000</td>\n",
       "      <td>4682.000000</td>\n",
       "    </tr>\n",
       "    <tr>\n",
       "      <th>mean</th>\n",
       "      <td>6.348355</td>\n",
       "      <td>4.678129</td>\n",
       "      <td>5.086797</td>\n",
       "      <td>5.044939</td>\n",
       "      <td>4.566273</td>\n",
       "      <td>4.723018</td>\n",
       "      <td>5.271335</td>\n",
       "      <td>4.143427</td>\n",
       "      <td>4.136403</td>\n",
       "      <td>4.099933</td>\n",
       "      <td>0.080948</td>\n",
       "      <td>6.785098</td>\n",
       "    </tr>\n",
       "    <tr>\n",
       "      <th>std</th>\n",
       "      <td>2.006230</td>\n",
       "      <td>1.097163</td>\n",
       "      <td>1.594344</td>\n",
       "      <td>0.930669</td>\n",
       "      <td>1.433689</td>\n",
       "      <td>1.363110</td>\n",
       "      <td>0.921218</td>\n",
       "      <td>1.252770</td>\n",
       "      <td>1.023293</td>\n",
       "      <td>0.912293</td>\n",
       "      <td>0.272785</td>\n",
       "      <td>0.800495</td>\n",
       "    </tr>\n",
       "    <tr>\n",
       "      <th>min</th>\n",
       "      <td>2.000000</td>\n",
       "      <td>2.057000</td>\n",
       "      <td>1.030000</td>\n",
       "      <td>1.941000</td>\n",
       "      <td>1.636000</td>\n",
       "      <td>1.737000</td>\n",
       "      <td>1.647000</td>\n",
       "      <td>1.219000</td>\n",
       "      <td>1.375000</td>\n",
       "      <td>1.000000</td>\n",
       "      <td>0.000000</td>\n",
       "      <td>4.106191</td>\n",
       "    </tr>\n",
       "    <tr>\n",
       "      <th>25%</th>\n",
       "      <td>5.000000</td>\n",
       "      <td>3.849000</td>\n",
       "      <td>4.115000</td>\n",
       "      <td>4.529000</td>\n",
       "      <td>3.242000</td>\n",
       "      <td>3.519250</td>\n",
       "      <td>4.706000</td>\n",
       "      <td>3.114000</td>\n",
       "      <td>3.438000</td>\n",
       "      <td>3.606000</td>\n",
       "      <td>0.000000</td>\n",
       "      <td>6.223394</td>\n",
       "    </tr>\n",
       "    <tr>\n",
       "      <th>50%</th>\n",
       "      <td>6.000000</td>\n",
       "      <td>4.571000</td>\n",
       "      <td>5.290000</td>\n",
       "      <td>5.123000</td>\n",
       "      <td>4.471000</td>\n",
       "      <td>4.677000</td>\n",
       "      <td>5.438000</td>\n",
       "      <td>4.177000</td>\n",
       "      <td>4.186500</td>\n",
       "      <td>4.121000</td>\n",
       "      <td>0.000000</td>\n",
       "      <td>6.757226</td>\n",
       "    </tr>\n",
       "    <tr>\n",
       "      <th>75%</th>\n",
       "      <td>8.000000</td>\n",
       "      <td>5.419000</td>\n",
       "      <td>6.088000</td>\n",
       "      <td>5.600000</td>\n",
       "      <td>5.971000</td>\n",
       "      <td>6.032000</td>\n",
       "      <td>5.969000</td>\n",
       "      <td>5.152000</td>\n",
       "      <td>4.882000</td>\n",
       "      <td>4.656000</td>\n",
       "      <td>0.000000</td>\n",
       "      <td>7.351546</td>\n",
       "    </tr>\n",
       "    <tr>\n",
       "      <th>max</th>\n",
       "      <td>16.000000</td>\n",
       "      <td>8.177000</td>\n",
       "      <td>8.647000</td>\n",
       "      <td>8.371000</td>\n",
       "      <td>6.938000</td>\n",
       "      <td>6.941000</td>\n",
       "      <td>6.939000</td>\n",
       "      <td>6.971000</td>\n",
       "      <td>6.912000</td>\n",
       "      <td>6.971000</td>\n",
       "      <td>1.000000</td>\n",
       "      <td>9.305880</td>\n",
       "    </tr>\n",
       "  </tbody>\n",
       "</table>\n",
       "</div>"
      ],
      "text/plain": [
       "            length      arousal      valence    dominance  concreteness  \\\n",
       "count  4682.000000  4682.000000  4682.000000  4682.000000   4682.000000   \n",
       "mean      6.348355     4.678129     5.086797     5.044939      4.566273   \n",
       "std       2.006230     1.097163     1.594344     0.930669      1.433689   \n",
       "min       2.000000     2.057000     1.030000     1.941000      1.636000   \n",
       "25%       5.000000     3.849000     4.115000     4.529000      3.242000   \n",
       "50%       6.000000     4.571000     5.290000     5.123000      4.471000   \n",
       "75%       8.000000     5.419000     6.088000     5.600000      5.971000   \n",
       "max      16.000000     8.177000     8.647000     8.371000      6.938000   \n",
       "\n",
       "       imageability  familiarity          aoa      semsize       gender  \\\n",
       "count   4682.000000  4682.000000  4682.000000  4682.000000  4682.000000   \n",
       "mean       4.723018     5.271335     4.143427     4.136403     4.099933   \n",
       "std        1.363110     0.921218     1.252770     1.023293     0.912293   \n",
       "min        1.737000     1.647000     1.219000     1.375000     1.000000   \n",
       "25%        3.519250     4.706000     3.114000     3.438000     3.606000   \n",
       "50%        4.677000     5.438000     4.177000     4.186500     4.121000   \n",
       "75%        6.032000     5.969000     5.152000     4.882000     4.656000   \n",
       "max        6.941000     6.939000     6.971000     6.912000     6.971000   \n",
       "\n",
       "          polysemy  frequency_log  \n",
       "count  4682.000000    4682.000000  \n",
       "mean      0.080948       6.785098  \n",
       "std       0.272785       0.800495  \n",
       "min       0.000000       4.106191  \n",
       "25%       0.000000       6.223394  \n",
       "50%       0.000000       6.757226  \n",
       "75%       0.000000       7.351546  \n",
       "max       1.000000       9.305880  "
      ]
     },
     "execution_count": 51,
     "metadata": {},
     "output_type": "execute_result"
    }
   ],
   "source": [
    "df_norm.describe()"
   ]
  }
 ],
 "metadata": {
  "kernelspec": {
   "display_name": "Python 3 (ipykernel)",
   "language": "python",
   "name": "python3"
  },
  "language_info": {
   "codemirror_mode": {
    "name": "ipython",
    "version": 3
   },
   "file_extension": ".py",
   "mimetype": "text/x-python",
   "name": "python",
   "nbconvert_exporter": "python",
   "pygments_lexer": "ipython3",
   "version": "3.9.7"
  }
 },
 "nbformat": 4,
 "nbformat_minor": 4
}
